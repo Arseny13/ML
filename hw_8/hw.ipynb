{
 "cells": [
  {
   "cell_type": "code",
   "execution_count": 1,
   "metadata": {
    "ExecuteTime": {
     "end_time": "2019-11-20T16:56:28.804590Z",
     "start_time": "2019-11-20T16:56:27.054699Z"
    }
   },
   "outputs": [],
   "source": [
    "import os\n",
    "import PIL\n",
    "import numpy as np\n",
    "import matplotlib.pyplot as plt\n",
    "import IPython.display as ipd\n",
    "import pandas as pd\n",
    "import librosa\n",
    "import librosa.display\n",
    "\n",
    "IMAGE_TRAIN_PATH = \"./data/train/image\"\n",
    "VOICE_TRAIN_PATH = \"./data/train/voice\"\n",
    "IMAGE_TEST_PATH = \"./data/test/image/\"\n",
    "VOICE_TEST_PATH = \"./data/test/voice/\"\n",
    "\n",
    "def read_image(path):\n",
    "    return PIL.Image.open(path).convert('L')\n",
    "def extract_image_features(image_folder):\n",
    "    image_vectors = []\n",
    "    indices = []\n",
    "    for image_name in os.listdir(image_folder):\n",
    "        index = os.path.splitext(image_name)[0]\n",
    "        indices.append(index)\n",
    "        image = read_image(os.path.join(image_folder, image_name))\n",
    "        image_vector = np.array(image).reshape(-1)\n",
    "        image_vectors.append(image_vector)\n",
    "    return pd.DataFrame({\n",
    "        'index': indices,\n",
    "        'image_vector': image_vectors,\n",
    "    })\n",
    "def extract_voice_features(voice_folder, numcep=13, hop_length=256):\n",
    "    voice_vectors = []\n",
    "    indices = []\n",
    "    for record_name in os.listdir(voice_folder):\n",
    "        index = os.path.splitext(record_name)[0]\n",
    "        indices.append(index)\n",
    "        signal, sr = load_wav(\n",
    "            os.path.join(voice_folder, record_name)\n",
    "        )\n",
    "        mfcc_features = librosa.feature.mfcc(\n",
    "            signal, sr=sr, n_mfcc=numcep, hop_length=hop_length\n",
    "        )\n",
    "        voice_vector = mfcc_features.mean(axis=1)\n",
    "        voice_vectors.append(voice_vector)\n",
    "    return pd.DataFrame({\n",
    "        'index': indices,\n",
    "        'voice_vector': voice_vectors,\n",
    "    })\n",
    "\n",
    "\n",
    "def load_wav(path):\n",
    "    return librosa.load(path, sr=8000)"
   ]
  },
  {
   "cell_type": "code",
   "execution_count": null,
   "metadata": {},
   "outputs": [],
   "source": [
    "# !unzip ./data/test.zip -d ./data/test\n",
    "# !unzip ./data/train.zip -d ./data/train"
   ]
  },
  {
   "cell_type": "code",
   "execution_count": 2,
   "metadata": {
    "ExecuteTime": {
     "end_time": "2019-11-20T16:56:40.119639Z",
     "start_time": "2019-11-20T16:56:28.806547Z"
    }
   },
   "outputs": [],
   "source": [
    "voice_features = extract_voice_features(VOICE_TRAIN_PATH)\n",
    "image_features = extract_image_features(IMAGE_TRAIN_PATH)\n",
    "dataset = image_features.merge(voice_features, on='index')\n",
    "dataset[\"target\"] = dataset[\"index\"].apply(lambda x: int(x[0]))\n",
    "\n",
    "submit_image_features = extract_image_features(IMAGE_TEST_PATH)\n",
    "submit_voice_features = extract_voice_features(VOICE_TEST_PATH)\n",
    "submit_dataset = submit_image_features.merge(\n",
    "    submit_voice_features, \n",
    "    on=\"index\"\n",
    ")\n",
    "submit_dataset[\"index\"] = submit_dataset[\"index\"].apply(int)"
   ]
  },
  {
   "cell_type": "code",
   "execution_count": 3,
   "metadata": {
    "ExecuteTime": {
     "end_time": "2019-11-20T16:56:40.144531Z",
     "start_time": "2019-11-20T16:56:40.122591Z"
    }
   },
   "outputs": [],
   "source": [
    "from sklearn.model_selection import train_test_split\n",
    "from sklearn.ensemble import RandomForestClassifier\n",
    "from sklearn.ensemble import GradientBoostingClassifier"
   ]
  },
  {
   "cell_type": "code",
   "execution_count": 4,
   "metadata": {
    "ExecuteTime": {
     "end_time": "2019-11-20T16:56:40.159491Z",
     "start_time": "2019-11-20T16:56:40.149521Z"
    }
   },
   "outputs": [],
   "source": [
    "train_data, test_data = train_test_split(\n",
    "    dataset, test_size=0.2, random_state=42\n",
    ")"
   ]
  },
  {
   "cell_type": "code",
   "execution_count": 5,
   "metadata": {
    "ExecuteTime": {
     "end_time": "2019-11-20T16:56:40.185453Z",
     "start_time": "2019-11-20T16:56:40.164490Z"
    }
   },
   "outputs": [],
   "source": [
    "X =  np.hstack((\n",
    "    np.vstack(dataset[\"voice_vector\"]),\n",
    "    np.vstack(dataset[\"image_vector\"])\n",
    "))\n",
    "Y=  y_test = dataset[\"target\"]"
   ]
  },
  {
   "cell_type": "code",
   "execution_count": 6,
   "metadata": {
    "ExecuteTime": {
     "end_time": "2019-11-20T16:56:40.206567Z",
     "start_time": "2019-11-20T16:56:40.187417Z"
    }
   },
   "outputs": [],
   "source": [
    "X_train = np.hstack((\n",
    "    np.vstack(train_data[\"voice_vector\"]),\n",
    "    np.vstack(train_data[\"image_vector\"])\n",
    "))\n",
    "y_train = train_data[\"target\"]\n",
    "X_test = np.hstack((\n",
    "    np.vstack(test_data[\"voice_vector\"]),\n",
    "    np.vstack(test_data[\"image_vector\"])\n",
    "))\n",
    "y_test = test_data[\"target\"]"
   ]
  },
  {
   "cell_type": "code",
   "execution_count": 7,
   "metadata": {
    "ExecuteTime": {
     "end_time": "2019-11-20T16:57:19.430593Z",
     "start_time": "2019-11-20T16:56:57.617757Z"
    }
   },
   "outputs": [
    {
     "name": "stdout",
     "output_type": "stream",
     "text": [
      "1.0 0.96\n"
     ]
    }
   ],
   "source": [
    "mdl = GradientBoostingClassifier(n_estimators=150,learning_rate = 0.15,random_state = 123).fit(X_train, y_train)\n",
    "print(mdl.score(X_train, y_train), mdl.score(X_test, y_test))"
   ]
  },
  {
   "cell_type": "code",
   "execution_count": 8,
   "metadata": {
    "ExecuteTime": {
     "end_time": "2019-11-20T16:57:19.440534Z",
     "start_time": "2019-11-20T16:57:19.431558Z"
    }
   },
   "outputs": [],
   "source": [
    "Z= np.hstack((\n",
    "    np.vstack(submit_dataset[\"voice_vector\"]),\n",
    "    np.vstack(submit_dataset[\"image_vector\"])\n",
    "))"
   ]
  },
  {
   "cell_type": "code",
   "execution_count": 9,
   "metadata": {
    "ExecuteTime": {
     "end_time": "2019-11-20T16:57:56.506623Z",
     "start_time": "2019-11-20T16:57:22.984786Z"
    }
   },
   "outputs": [],
   "source": [
    "mdl = GradientBoostingClassifier(n_estimators=150,learning_rate = 0.15,random_state = 123).fit(X, Y)\n",
    "pred_mdl =mdl.predict(Z)"
   ]
  },
  {
   "cell_type": "code",
   "execution_count": 10,
   "metadata": {
    "ExecuteTime": {
     "end_time": "2019-11-20T16:57:56.513605Z",
     "start_time": "2019-11-20T16:57:56.508618Z"
    }
   },
   "outputs": [],
   "source": [
    "submit_dataset[\"target\"] =pred_mdl"
   ]
  },
  {
   "cell_type": "code",
   "execution_count": 11,
   "metadata": {
    "ExecuteTime": {
     "end_time": "2019-11-20T16:57:56.525973Z",
     "start_time": "2019-11-20T16:57:56.515599Z"
    }
   },
   "outputs": [],
   "source": [
    "submit_dataset[[\"index\", \"target\"]] \\\n",
    "    .sort_values(\"index\") \\\n",
    "    .to_csv(\"hw.csv\", index=False)"
   ]
  },
  {
   "cell_type": "code",
   "execution_count": null,
   "metadata": {},
   "outputs": [],
   "source": []
  }
 ],
 "metadata": {
  "hide_input": false,
  "kernelspec": {
   "display_name": "Python 3",
   "language": "python",
   "name": "python3"
  },
  "language_info": {
   "codemirror_mode": {
    "name": "ipython",
    "version": 3
   },
   "file_extension": ".py",
   "mimetype": "text/x-python",
   "name": "python",
   "nbconvert_exporter": "python",
   "pygments_lexer": "ipython3",
   "version": "3.7.3"
  },
  "toc": {
   "base_numbering": 1,
   "nav_menu": {},
   "number_sections": true,
   "sideBar": true,
   "skip_h1_title": false,
   "title_cell": "Table of Contents",
   "title_sidebar": "Contents",
   "toc_cell": false,
   "toc_position": {},
   "toc_section_display": true,
   "toc_window_display": false
  }
 },
 "nbformat": 4,
 "nbformat_minor": 2
}
