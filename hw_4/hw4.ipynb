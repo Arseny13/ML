{
 "cells": [
  {
   "cell_type": "code",
   "execution_count": 1,
   "metadata": {},
   "outputs": [],
   "source": [
    "import numpy as np\n",
    "import pandas as pd\n",
    "import sklearn.ensemble\n",
    "import sklearn.metrics\n",
    "train = pd.read_csv('./introml2019-2/Train.csv')\n",
    "test = pd.read_csv('./introml2019-2/Test.csv')"
   ]
  },
  {
   "cell_type": "code",
   "execution_count": 2,
   "metadata": {},
   "outputs": [],
   "source": [
    "train['metro_dist'] =train['metro_dist'].replace(np.nan, train['metro_dist'].mean())\n",
    "train['build_tech'] =train['build_tech'].replace(np.nan, -99)\n",
    "train['g_lift'] =train['g_lift'].replace(np.nan,0 )\n",
    "test['metro_dist'] =test['metro_dist'].replace(np.nan, test['metro_dist'].mean())\n",
    "test['build_tech'] =test['build_tech'].replace(np.nan, -99)\n",
    "test['g_lift'] =test['g_lift'].replace(np.nan, 0)\n",
    "train['sum']=pd.Series(train.loc[:,'kw1':'kw13'].sum(axis=1),index = train.index)\n",
    "test['sum']=pd.Series(test.loc[:,'kw1':'kw13'].sum(axis=1),index = test.index)\n",
    "\n",
    "COLUMNS = ['street_id', 'build_tech', 'floor', 'area', 'rooms', 'balcon', 'metro_dist', 'g_lift', 'n_photos', 'sum']"
   ]
  },
  {
   "cell_type": "code",
   "execution_count": 3,
   "metadata": {},
   "outputs": [],
   "source": [
    "train['year'] =  pd.DatetimeIndex(train['date']).year\n",
    "train['month'] =  pd.DatetimeIndex(train['date']).month\n",
    "\n",
    "test['year'] =  pd.DatetimeIndex(test['date']).year\n",
    "test['month'] =  pd.DatetimeIndex(test['date']).month\n",
    "w = []\n",
    "for i in range(train.shape[0]):\n",
    "    if train.loc[i].year == 2011 :\n",
    "        q=1\n",
    "    elif train.loc[i].year == 2012:\n",
    "        q=2\n",
    "    else:\n",
    "        q=3\n",
    "    w.append(q)\n",
    "w = np.array(w)\n",
    "train['year1'] = w\n",
    "w = []\n",
    "for i in range(test.shape[0]):\n",
    "    if test.loc[i].year == 2011 :\n",
    "        q=1\n",
    "    elif test.loc[i].year == 2012:\n",
    "        q=2\n",
    "    else :\n",
    "        q=3\n",
    "    w.append(q)\n",
    "w = np.array(w)\n",
    "test['year1'] = w"
   ]
  },
  {
   "cell_type": "code",
   "execution_count": 4,
   "metadata": {},
   "outputs": [],
   "source": [
    "#train"
   ]
  },
  {
   "cell_type": "code",
   "execution_count": 5,
   "metadata": {},
   "outputs": [],
   "source": [
    "train1 = train.iloc[:83494]\n",
    "test1 = train.iloc[83494:]\n",
    "train2 = train.iloc[:78006]\n",
    "test2 = train.iloc[78006:]"
   ]
  },
  {
   "cell_type": "code",
   "execution_count": 6,
   "metadata": {},
   "outputs": [],
   "source": [
    "C= ['street_id', 'build_tech', 'floor', 'area', 'rooms', 'balcon', \\\n",
    "    'metro_dist', 'g_lift', 'n_photos','sum']\n",
    "C1= ['street_id', 'build_tech', 'floor', 'area', 'rooms', 'balcon', \\\n",
    "    'metro_dist', 'g_lift', 'n_photos','sum','month','year1']"
   ]
  },
  {
   "cell_type": "code",
   "execution_count": 7,
   "metadata": {},
   "outputs": [],
   "source": [
    "y = train1['price'].values\n",
    "y1 = test1['price'].values\n",
    "y0 = train['price'].values\n",
    "X = train1[C1].values\n",
    "Xt = test1[C1].values\n",
    "Ztr = train[C1].values\n",
    "Zt = test[C1].values"
   ]
  },
  {
   "cell_type": "code",
   "execution_count": 20,
   "metadata": {},
   "outputs": [],
   "source": [
    "for i in range(4,4):\n",
    "    for j in range(4,5):\n",
    "        mdl=sklearn.ensemble.GradientBoostingRegressor(loss='huber',learning_rate=0.05*i,\\\n",
    "                                                      n_estimators=1000,max_depth=6,random_state=123,\n",
    "                                               min_samples_leaf=6 )\n",
    "        # min_child_weight, n_estimators = 200-400, gamma, max_delta_step)\n",
    "        mdl.fit(X,y)\n",
    "        preds1 =mdl.predict(X)\n",
    "        preds2 = mdl.predict(Xt)\n",
    "        #   preds3 = mdl.predict(Z1)\n",
    "        print('i= ',i,'J=',j)\n",
    "        k1 =sklearn.metrics.mean_absolute_error(preds1,y)\n",
    "    \n",
    "        k2 =sklearn.metrics.mean_absolute_error(preds2,y1)\n",
    "        print(k1, k2)"
   ]
  },
  {
   "cell_type": "code",
   "execution_count": 17,
   "metadata": {},
   "outputs": [],
   "source": [
    "mdl=sklearn.ensemble.GradientBoostingRegressor(loss='huber',learning_rate=0.25,\\\n",
    "                                                      n_estimators=1000,max_depth=6,random_state=123,\n",
    "                                               min_samples_leaf=6 )"
   ]
  },
  {
   "cell_type": "code",
   "execution_count": 18,
   "metadata": {},
   "outputs": [],
   "source": [
    "mdl.fit(Ztr,y0)\n",
    "preds1 =mdl.predict(Ztr)\n",
    "preds2 = mdl.predict(Zt)"
   ]
  },
  {
   "cell_type": "code",
   "execution_count": 19,
   "metadata": {},
   "outputs": [],
   "source": [
    "test['price'] = preds2\n",
    "test[['id', 'price']].to_csv('./introml2019-2/Last2.csv', index=False)"
   ]
  },
  {
   "cell_type": "code",
   "execution_count": null,
   "metadata": {},
   "outputs": [],
   "source": []
  }
 ],
 "metadata": {
  "kernelspec": {
   "display_name": "Python 3",
   "language": "python",
   "name": "python3"
  },
  "language_info": {
   "codemirror_mode": {
    "name": "ipython",
    "version": 3
   },
   "file_extension": ".py",
   "mimetype": "text/x-python",
   "name": "python",
   "nbconvert_exporter": "python",
   "pygments_lexer": "ipython3",
   "version": "3.7.3"
  }
 },
 "nbformat": 4,
 "nbformat_minor": 2
}
